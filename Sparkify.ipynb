{
 "cells": [
  {
   "cell_type": "markdown",
   "metadata": {},
   "source": [
    "# Sparkify Project Workspace\n",
    "This workspace contains a tiny subset (128MB) of the full dataset available (12GB). Feel free to use this workspace to build your project, or to explore a smaller subset with Spark before deploying your cluster on the cloud. Instructions for setting up your Spark cluster is included in the last lesson of the Extracurricular Spark Course content.\n",
    "\n",
    "You can follow the steps below to guide your data analysis and model building portion of this project."
   ]
  },
  {
   "cell_type": "code",
   "execution_count": 1,
   "metadata": {},
   "outputs": [],
   "source": [
    "# Import libraries\n",
    "from pyspark.sql import SparkSession\n",
    "import pyspark.sql.functions as F\n",
    "from pyspark.sql.types import IntegerType\n",
    "from pyspark.ml.feature import VectorAssembler, Normalizer, StandardScaler\n",
    "from pyspark.ml.classification import LogisticRegression, RandomForestClassifier, GBTClassifier, DecisionTreeClassifier, NaiveBayes, LinearSVC\n",
    "from pyspark.ml.evaluation import BinaryClassificationEvaluator, MulticlassClassificationEvaluator\n",
    "from pyspark.ml.tuning import CrossValidator, ParamGridBuilder\n",
    "\n",
    "\n",
    "import pandas as pd\n",
    "import numpy as np\n",
    "import matplotlib.pyplot as plt\n",
    "import seaborn as sns"
   ]
  },
  {
   "cell_type": "code",
   "execution_count": 2,
   "metadata": {},
   "outputs": [],
   "source": [
    "# Create a Spark session\n",
    "spark = SparkSession\\\n",
    "        .builder\\\n",
    "        .appName('Sparkify')\\\n",
    "        .getOrCreate()"
   ]
  },
  {
   "cell_type": "markdown",
   "metadata": {},
   "source": [
    "# Load and Clean Dataset\n",
    "In this workspace, the mini-dataset file is `mini_sparkify_event_data.json`. Load and clean the dataset, checking for invalid or missing data - for example, records without userids or sessionids. "
   ]
  },
  {
   "cell_type": "code",
   "execution_count": 3,
   "metadata": {
    "scrolled": true
   },
   "outputs": [
    {
     "data": {
      "text/plain": [
       "DataFrame[artist: string, auth: string, firstName: string, gender: string, itemInSession: bigint, lastName: string, length: double, level: string, location: string, method: string, page: string, registration: bigint, sessionId: bigint, song: string, status: bigint, ts: bigint, userAgent: string, userId: string]"
      ]
     },
     "execution_count": 3,
     "metadata": {},
     "output_type": "execute_result"
    }
   ],
   "source": [
    "# Load dataset\n",
    "path = 'mini_sparkify_event_data.json'\n",
    "df = spark.read.json(path)\n",
    "\n",
    "df.persist()"
   ]
  },
  {
   "cell_type": "code",
   "execution_count": 4,
   "metadata": {},
   "outputs": [
    {
     "name": "stdout",
     "output_type": "stream",
     "text": [
      "root\n",
      " |-- artist: string (nullable = true)\n",
      " |-- auth: string (nullable = true)\n",
      " |-- firstName: string (nullable = true)\n",
      " |-- gender: string (nullable = true)\n",
      " |-- itemInSession: long (nullable = true)\n",
      " |-- lastName: string (nullable = true)\n",
      " |-- length: double (nullable = true)\n",
      " |-- level: string (nullable = true)\n",
      " |-- location: string (nullable = true)\n",
      " |-- method: string (nullable = true)\n",
      " |-- page: string (nullable = true)\n",
      " |-- registration: long (nullable = true)\n",
      " |-- sessionId: long (nullable = true)\n",
      " |-- song: string (nullable = true)\n",
      " |-- status: long (nullable = true)\n",
      " |-- ts: long (nullable = true)\n",
      " |-- userAgent: string (nullable = true)\n",
      " |-- userId: string (nullable = true)\n",
      "\n"
     ]
    }
   ],
   "source": [
    "df.printSchema()"
   ]
  },
  {
   "cell_type": "code",
   "execution_count": 5,
   "metadata": {},
   "outputs": [
    {
     "name": "stdout",
     "output_type": "stream",
     "text": [
      "artist missing values total: 58392\n",
      "auth missing values total: 0\n",
      "firstName missing values total: 8346\n",
      "gender missing values total: 8346\n",
      "itemInSession missing values total: 0\n",
      "lastName missing values total: 8346\n",
      "length missing values total: 58392\n",
      "level missing values total: 0\n",
      "location missing values total: 8346\n",
      "method missing values total: 0\n",
      "page missing values total: 0\n",
      "registration missing values total: 8346\n",
      "sessionId missing values total: 0\n",
      "song missing values total: 58392\n",
      "status missing values total: 0\n",
      "ts missing values total: 0\n",
      "userAgent missing values total: 8346\n",
      "userId missing values total: 0\n"
     ]
    }
   ],
   "source": [
    "# Count the size and the missing values of the dataframe\n",
    "for column in df.columns:\n",
    "    print(column, 'missing values total:', df.filter(F.isnull(df[column])).count())"
   ]
  },
  {
   "cell_type": "markdown",
   "metadata": {},
   "source": [
    "> Each data point is a different page event, which may or may not have all the columns filled, so several columns with missing values, such as `artist`, could be ignored. The column that could not be tolerated with missing values is `userId` column, since it is the data point the new dataframe would be grouped by for the machine learning classification.\n",
    "\n",
    "> Another column that we might not want to have any missing value would be the `sessionId`, since it is the primary data point for the `df` dataframe itself."
   ]
  },
  {
   "cell_type": "code",
   "execution_count": 5,
   "metadata": {},
   "outputs": [
    {
     "name": "stdout",
     "output_type": "stream",
     "text": [
      "Number of data points before dropping missing values: 286500\n",
      "Number of data points after dropping missing values: 286500\n"
     ]
    }
   ],
   "source": [
    "# Remove missing values from the userId and sessionId column\n",
    "print('Number of data points before dropping missing values:', df.count())\n",
    "df_clean = df.dropna(how='any', subset=['userId', 'sessionId'])\n",
    "print('Number of data points after dropping missing values:', df_clean.count())"
   ]
  },
  {
   "cell_type": "markdown",
   "metadata": {},
   "source": [
    "> It appears that there is no missing value in both columns. However, from the Udacity classroom, it was showed that the missing values might be in the format of an empty string `\"\"`."
   ]
  },
  {
   "cell_type": "code",
   "execution_count": 7,
   "metadata": {},
   "outputs": [
    {
     "name": "stdout",
     "output_type": "stream",
     "text": [
      "+------+\n",
      "|userId|\n",
      "+------+\n",
      "|      |\n",
      "|    10|\n",
      "|   100|\n",
      "|100001|\n",
      "|100002|\n",
      "|100003|\n",
      "|100004|\n",
      "|100005|\n",
      "|100006|\n",
      "|100007|\n",
      "+------+\n",
      "only showing top 10 rows\n",
      "\n",
      "userId empty string values: 8346\n"
     ]
    }
   ],
   "source": [
    "# Showing distinct userId\n",
    "df_clean.select('userId').dropDuplicates().orderBy('userId').show(10)\n",
    "print('userId empty string values:', df_clean.filter(df_clean.userId == '').count())"
   ]
  },
  {
   "cell_type": "code",
   "execution_count": 8,
   "metadata": {},
   "outputs": [
    {
     "name": "stdout",
     "output_type": "stream",
     "text": [
      "+---------+\n",
      "|sessionId|\n",
      "+---------+\n",
      "|        1|\n",
      "|        2|\n",
      "|        3|\n",
      "|        4|\n",
      "|        5|\n",
      "|        6|\n",
      "|        7|\n",
      "|        8|\n",
      "|        9|\n",
      "|       10|\n",
      "+---------+\n",
      "only showing top 10 rows\n",
      "\n",
      "sessionId empty string values: 0\n"
     ]
    }
   ],
   "source": [
    "# Showing distinct sessionId\n",
    "df_clean.select('sessionId').dropDuplicates().orderBy('sessionId').show(10)\n",
    "print('sessionId empty string values:', df_clean.filter(df_clean.sessionId == '').count())"
   ]
  },
  {
   "cell_type": "markdown",
   "metadata": {},
   "source": [
    "> Only `userId` has empty string as values. Thus, remove them."
   ]
  },
  {
   "cell_type": "code",
   "execution_count": 6,
   "metadata": {},
   "outputs": [
    {
     "name": "stdout",
     "output_type": "stream",
     "text": [
      "userId empty string values: 0\n",
      "Data points without missing values: 278154\n"
     ]
    }
   ],
   "source": [
    "# Remove userId with empty string\n",
    "df_clean = df_clean.filter(df_clean.userId != '')\n",
    "print('userId empty string values:', df_clean.filter(df_clean.userId == '').count())\n",
    "print('Data points without missing values:', df_clean.count())"
   ]
  },
  {
   "cell_type": "code",
   "execution_count": 7,
   "metadata": {},
   "outputs": [],
   "source": [
    "# Change timestamp and registration format to DateType\n",
    "df_clean = df_clean.withColumn('ts', F.from_unixtime(F.col('ts') / 1000))\n",
    "df_clean = df_clean.withColumn('registration', F.from_unixtime(F.col('registration') / 1000))"
   ]
  },
  {
   "cell_type": "code",
   "execution_count": 9,
   "metadata": {},
   "outputs": [],
   "source": [
    "# Save clean dataframe\n",
    "df_clean.write.json(path='spark-warehouse/mini_sparkify_clean_event_data.json', mode='overwrite')"
   ]
  },
  {
   "cell_type": "code",
   "execution_count": 3,
   "metadata": {},
   "outputs": [],
   "source": [
    "# Load clean dataframe\n",
    "df_clean = spark.read.json('spark-warehouse/mini_sparkify_clean_event_data.json')"
   ]
  },
  {
   "cell_type": "markdown",
   "metadata": {},
   "source": [
    "# Exploratory Data Analysis\n",
    "When you're working with the full dataset, perform EDA by loading a small subset of the data and doing basic manipulations within Spark. In this workspace, you are already provided a small subset of data you can explore.\n",
    "\n",
    "### Define Churn\n",
    "\n",
    "Once you've done some preliminary analysis, create a column `Churn` to use as the label for your model. I suggest using the `Cancellation Confirmation` events to define your churn, which happen for both paid and free users. As a bonus task, you can also look into the `Downgrade` events.\n",
    "\n",
    "### Explore Data\n",
    "Once you've defined churn, perform some exploratory data analysis to observe the behavior for users who stayed vs users who churned. You can start by exploring aggregates on these two groups of users, observing how much of a specific action they experienced per a certain time unit or number of songs played."
   ]
  },
  {
   "cell_type": "code",
   "execution_count": 11,
   "metadata": {},
   "outputs": [
    {
     "name": "stdout",
     "output_type": "stream",
     "text": [
      "+----------------+---------+---------+------+-------------+--------+---------+-----+--------------------+------+--------+-------------+---------+--------------------+------+-------------------+--------------------+------+\n",
      "|          artist|     auth|firstName|gender|itemInSession|lastName|   length|level|            location|method|    page| registration|sessionId|                song|status|                 ts|           userAgent|userId|\n",
      "+----------------+---------+---------+------+-------------+--------+---------+-----+--------------------+------+--------+-------------+---------+--------------------+------+-------------------+--------------------+------+\n",
      "|  Martha Tilston|Logged In|    Colin|     M|           50| Freeman|277.89016| paid|     Bakersfield, CA|   PUT|NextSong|1538173362000|       29|           Rockpools|   200|2018-10-01 00:01:57|Mozilla/5.0 (Wind...|    30|\n",
      "|Five Iron Frenzy|Logged In|    Micah|     M|           79|    Long|236.09424| free|Boston-Cambridge-...|   PUT|NextSong|1538331630000|        8|              Canada|   200|2018-10-01 00:03:00|\"Mozilla/5.0 (Win...|     9|\n",
      "|    Adam Lambert|Logged In|    Colin|     M|           51| Freeman| 282.8273| paid|     Bakersfield, CA|   PUT|NextSong|1538173362000|       29|   Time For Miracles|   200|2018-10-01 00:06:34|Mozilla/5.0 (Wind...|    30|\n",
      "|          Enigma|Logged In|    Micah|     M|           80|    Long|262.71302| free|Boston-Cambridge-...|   PUT|NextSong|1538331630000|        8|Knocking On Forbi...|   200|2018-10-01 00:06:56|\"Mozilla/5.0 (Win...|     9|\n",
      "|       Daft Punk|Logged In|    Colin|     M|           52| Freeman|223.60771| paid|     Bakersfield, CA|   PUT|NextSong|1538173362000|       29|Harder Better Fas...|   200|2018-10-01 00:11:16|Mozilla/5.0 (Wind...|    30|\n",
      "+----------------+---------+---------+------+-------------+--------+---------+-----+--------------------+------+--------+-------------+---------+--------------------+------+-------------------+--------------------+------+\n",
      "only showing top 5 rows\n",
      "\n"
     ]
    }
   ],
   "source": [
    "# Exploring the dataframe\n",
    "df_clean.show(5)"
   ]
  },
  {
   "cell_type": "markdown",
   "metadata": {},
   "source": [
    "> Since the Sparkify data are basically web events and we need to predict users who are going to churn, we need to transform the data into the ones that are based on `userId` as the primary (each data points are going to be filled with columns/features of an individual user). I'm going to do that under the Feature Engineering section. Let's explore the data deeper in this one."
   ]
  },
  {
   "cell_type": "code",
   "execution_count": 12,
   "metadata": {},
   "outputs": [
    {
     "name": "stdout",
     "output_type": "stream",
     "text": [
      "+--------------------+------+\n",
      "|                page| count|\n",
      "+--------------------+------+\n",
      "|               About|   495|\n",
      "|          Add Friend|  4277|\n",
      "|     Add to Playlist|  6526|\n",
      "|              Cancel|    52|\n",
      "|Cancellation Conf...|    52|\n",
      "|           Downgrade|  2055|\n",
      "|               Error|   252|\n",
      "|                Help|  1454|\n",
      "|                Home| 10082|\n",
      "|              Logout|  3226|\n",
      "|            NextSong|228108|\n",
      "|         Roll Advert|  3933|\n",
      "|       Save Settings|   310|\n",
      "|            Settings|  1514|\n",
      "|    Submit Downgrade|    63|\n",
      "|      Submit Upgrade|   159|\n",
      "|         Thumbs Down|  2546|\n",
      "|           Thumbs Up| 12551|\n",
      "|             Upgrade|   499|\n",
      "+--------------------+------+\n",
      "\n"
     ]
    }
   ],
   "source": [
    "# Exploring all possible page of an event\n",
    "df_clean.groupBy('page').count().orderBy('page').show()"
   ]
  },
  {
   "cell_type": "code",
   "execution_count": 9,
   "metadata": {},
   "outputs": [],
   "source": [
    "# Create churn column to indicate whether a user is churned\n",
    "ischurn = F.udf(lambda page: 1 if page == 'Cancellation Confirmation' else 0, IntegerType())\n",
    "df_user_churn = df_clean.withColumn('churn', ischurn(df_clean.page)).groupBy('userId').agg(F.sum('churn').alias('isChurn'))\n",
    "df_clean = df_clean.join(df_user_churn, ['userId'])"
   ]
  },
  {
   "cell_type": "code",
   "execution_count": 11,
   "metadata": {},
   "outputs": [],
   "source": [
    "# Save df_clean with churn column\n",
    "df_clean.write.json(path='spark-warehouse/mini_sparkify_event_data_churn.json', mode='overwrite')"
   ]
  },
  {
   "cell_type": "code",
   "execution_count": 7,
   "metadata": {},
   "outputs": [],
   "source": [
    "# Load df_clean with churn column\n",
    "df_clean = spark.read.json('spark-warehouse/mini_sparkify_event_data_churn.json')"
   ]
  },
  {
   "cell_type": "code",
   "execution_count": 37,
   "metadata": {},
   "outputs": [
    {
     "name": "stdout",
     "output_type": "stream",
     "text": [
      "root\n",
      " |-- userId: string (nullable = true)\n",
      " |-- artist: string (nullable = true)\n",
      " |-- auth: string (nullable = true)\n",
      " |-- firstName: string (nullable = true)\n",
      " |-- gender: string (nullable = true)\n",
      " |-- itemInSession: long (nullable = true)\n",
      " |-- lastName: string (nullable = true)\n",
      " |-- length: double (nullable = true)\n",
      " |-- level: string (nullable = true)\n",
      " |-- location: string (nullable = true)\n",
      " |-- method: string (nullable = true)\n",
      " |-- page: string (nullable = true)\n",
      " |-- registration: string (nullable = true)\n",
      " |-- sessionId: long (nullable = true)\n",
      " |-- song: string (nullable = true)\n",
      " |-- status: long (nullable = true)\n",
      " |-- ts: string (nullable = true)\n",
      " |-- userAgent: string (nullable = true)\n",
      " |-- isChurn: long (nullable = true)\n",
      "\n"
     ]
    }
   ],
   "source": [
    "df_clean.printSchema()"
   ]
  },
  {
   "cell_type": "code",
   "execution_count": 14,
   "metadata": {},
   "outputs": [
    {
     "data": {
      "image/png": "[encoded data removed]",
      "text/plain": [
       "<matplotlib.figure.Figure at 0x7f9b093a8d68>"
      ]
     },
     "metadata": {
      "needs_background": "light"
     },
     "output_type": "display_data"
    }
   ],
   "source": [
    "# Plot bar diagram for number of churned users\n",
    "churn_num = df_clean.select('userId', 'isChurn').distinct().groupBy('isChurn').count().toPandas()\n",
    "churn_num['isChurn'] = ['No', 'Yes']\n",
    "\n",
    "X, y = churn_num['isChurn'], churn_num['count']\n",
    "fig, ax = plt.subplots(figsize = (10,5))\n",
    "ax.bar(X, y)\n",
    "\n",
    "for i, val in enumerate(y):\n",
    "    ax.text(X[i], val, str(val), fontdict=dict(fontsize=12))\n",
    "plt.title('Number of Users Churned')\n",
    "plt.xlabel('Is Churned?')\n",
    "plt.ylabel('Total User')\n",
    "plt.show();"
   ]
  },
  {
   "cell_type": "markdown",
   "metadata": {},
   "source": [
    "### Exploring Data: Churned vs. Not Churned"
   ]
  },
  {
   "cell_type": "code",
   "execution_count": 15,
   "metadata": {},
   "outputs": [
    {
     "name": "stdout",
     "output_type": "stream",
     "text": [
      "root\n",
      " |-- userId: string (nullable = true)\n",
      " |-- artist: string (nullable = true)\n",
      " |-- auth: string (nullable = true)\n",
      " |-- firstName: string (nullable = true)\n",
      " |-- gender: string (nullable = true)\n",
      " |-- itemInSession: long (nullable = true)\n",
      " |-- lastName: string (nullable = true)\n",
      " |-- length: double (nullable = true)\n",
      " |-- level: string (nullable = true)\n",
      " |-- location: string (nullable = true)\n",
      " |-- method: string (nullable = true)\n",
      " |-- page: string (nullable = true)\n",
      " |-- registration: long (nullable = true)\n",
      " |-- sessionId: long (nullable = true)\n",
      " |-- song: string (nullable = true)\n",
      " |-- status: long (nullable = true)\n",
      " |-- ts: string (nullable = true)\n",
      " |-- userAgent: string (nullable = true)\n",
      " |-- isChurn: long (nullable = true)\n",
      "\n"
     ]
    }
   ],
   "source": [
    "df_clean.printSchema()"
   ]
  },
  {
   "cell_type": "code",
   "execution_count": 55,
   "metadata": {},
   "outputs": [
    {
     "data": {
      "image/png": "[encoded data removed]",
      "text/plain": [
       "<matplotlib.figure.Figure at 0x7fa847aa29b0>"
      ]
     },
     "metadata": {
      "needs_background": "light"
     },
     "output_type": "display_data"
    }
   ],
   "source": [
    "# Exploring gender feature\n",
    "df_user_gender_churn = df_clean.groupBy(['userId', 'gender']).agg(F.max(F.col('isChurn')).alias('isChurn'))\n",
    "pd_gender_churn = df_user_gender_churn.groupBy(['gender', 'isChurn']).count().toPandas()\n",
    "pd_gender_churn['isChurn'] = pd_gender_churn['isChurn'].apply(lambda churn_val: 'Yes' if churn_val == 1 else 'No')\n",
    "\n",
    "ax = sns.barplot(x='isChurn', y='count', hue='gender', data=pd_gender_churn)\n",
    "\n",
    "plt.title('Total Users Churned by Gender')\n",
    "plt.ylabel('Total Users')\n",
    "plt.xlabel('Is Churned?')\n",
    "plt.show()"
   ]
  },
  {
   "cell_type": "markdown",
   "metadata": {},
   "source": [
    "> It appears that the female to male ratio is significantly different between the users who are churned and not. This suggests that it might be a useful feature to include in the model training."
   ]
  },
  {
   "cell_type": "code",
   "execution_count": 22,
   "metadata": {},
   "outputs": [
    {
     "data": {
      "image/png": "[encoded data removed]",
      "text/plain": [
       "<matplotlib.figure.Figure at 0x7f8f1da48160>"
      ]
     },
     "metadata": {
      "needs_background": "light"
     },
     "output_type": "display_data"
    }
   ],
   "source": [
    "# Exploring item in session\n",
    "df_item_session = df_clean.groupBy(['userId', 'sessionId']).agg(F.max(F.col('itemInSession')).alias('itemsTotal'))\n",
    "df_item_session = df_item_session.groupBy('userId').agg(F.avg(F.col('itemsTotal')).alias('itemsPerSession'))\n",
    "pd_item_session = df_item_session.join(df_user_churn, ['userId']).toPandas()\n",
    "\n",
    "# Visualize the items per session average \n",
    "item_session_nochurned = pd_item_session[pd_item_session.isChurn == 0]['itemsPerSession']\n",
    "item_session_churned = pd_item_session[pd_item_session.isChurn == 1]['itemsPerSession']\n",
    "kwargs = dict(alpha=0.5)\n",
    "\n",
    "plt.hist(item_session_nochurned, **kwargs, color='g', label='Not Churned', density=True)\n",
    "plt.hist(item_session_churned, **kwargs, color='r', label='Churned', density=True)\n",
    "\n",
    "plt.title('Average Activities per Session Density')\n",
    "plt.xlabel('Average Activities per Session')\n",
    "plt.ylabel('Total User Density')\n",
    "\n",
    "plt.legend()\n",
    "plt.show()"
   ]
  },
  {
   "cell_type": "markdown",
   "metadata": {},
   "source": [
    "> The distribution of average number of items per session of the users who are not churned are bimodal while those who churned looks rightly skewed. This suggests that it might be a useful feature."
   ]
  },
  {
   "cell_type": "code",
   "execution_count": 62,
   "metadata": {
    "scrolled": true
   },
   "outputs": [
    {
     "data": {
      "image/png": "[encoded data removed]",
      "text/plain": [
       "<matplotlib.figure.Figure at 0x7f9b08a3b160>"
      ]
     },
     "metadata": {
      "needs_background": "light"
     },
     "output_type": "display_data"
    }
   ],
   "source": [
    "# Exploring registration\n",
    "# distribution comparison of number of days after registration between the two groups\n",
    "df_days_since_reg = df_clean.withColumn('ts', F.date_trunc('day', F.col('ts')))\\\n",
    "                        .withColumn('registration', F.date_trunc('day', F.col('registration')))\\\n",
    "                        .groupBy(['userId', 'registration']).agg(F.max(F.col('ts')).alias('maxTs'))\\\n",
    "                        .select('userId', ((F.col('maxTs').cast('long') - F.col('registration')\\\n",
    "                                            .cast('long')) / (60*60*24)).alias('daysSinceReg'))\\\n",
    "                        .join(df_user_churn, ['userId'])\n",
    "pd_days_since_reg = df_days_since_reg.toPandas()\n",
    "\n",
    "# Visualize the items per session average \n",
    "days_since_reg_nochurned = pd_days_since_reg[pd_days_since_reg.isChurn == 0]['daysSinceReg']\n",
    "days_since_reg_churned = pd_days_since_reg[pd_days_since_reg.isChurn == 1]['daysSinceReg']\n",
    "kwargs = dict(alpha=0.5)\n",
    "\n",
    "plt.hist(days_since_reg_nochurned, **kwargs, color='g', label='Not Churned', density=True)\n",
    "plt.hist(days_since_reg_churned, **kwargs, color='r', label='Churned', density=True)\n",
    "\n",
    "plt.title('Days Since Registration Distribution')\n",
    "plt.xlabel('Days Since Registration')\n",
    "plt.ylabel('Total User Density')\n",
    "\n",
    "plt.legend()\n",
    "plt.show()"
   ]
  },
  {
   "cell_type": "markdown",
   "metadata": {},
   "source": [
    "> Those who churn tend to do it in the first 50 days since their registrations. Thus, this features might also be useful to be included in training."
   ]
  },
  {
   "cell_type": "code",
   "execution_count": 40,
   "metadata": {},
   "outputs": [
    {
     "data": {
      "image/png": "[encoded data removed]",
      "text/plain": [
       "<matplotlib.figure.Figure at 0x7f9b09024d68>"
      ]
     },
     "metadata": {
      "needs_background": "light"
     },
     "output_type": "display_data"
    }
   ],
   "source": [
    "# Exploring status\n",
    "df_user_level_churn = df_clean.groupBy('userId')\\\n",
    "                        .agg(F.max(F.col('level')).alias('havePaid'), F.max(F.col('isChurn')).alias('isChurn'))\\\n",
    "                        .groupBy(['havePaid', 'isChurn']).count()\n",
    "pd_level_churn = df_user_level_churn.toPandas()\n",
    "pd_level_churn['isChurn'] = pd_level_churn['isChurn'].apply(lambda churn_val: 'Yes' if churn_val == 1 else 'No')\n",
    "\n",
    "ax = sns.barplot(x='isChurn', y='count', hue='havePaid', data=pd_level_churn)\n",
    "\n",
    "plt.title('Total Users Churned by Having Paid')\n",
    "plt.ylabel('Total Users')\n",
    "plt.xlabel('Is Churned?')\n",
    "plt.show()"
   ]
  },
  {
   "cell_type": "markdown",
   "metadata": {},
   "source": [
    "> The ratio of free to paid between the two groups seems to be significantly different: the number of people who pay tends to be larger in the group who do not churn. Thus, this feature would be included in training."
   ]
  },
  {
   "cell_type": "code",
   "execution_count": 10,
   "metadata": {},
   "outputs": [
    {
     "data": {
      "image/png": "[encoded data removed]",
      "text/plain": [
       "<matplotlib.figure.Figure at 0x7f5a8f965e80>"
      ]
     },
     "metadata": {
      "needs_background": "light"
     },
     "output_type": "display_data"
    }
   ],
   "source": [
    "# Exploring length of songs heard by time interval: day, week, month\n",
    "df_length_per_day = df_clean.withColumn('ts', F.date_trunc('day', F.col('ts'))).groupBy(['userId', 'ts'])\\\n",
    "                            .agg(F.sum(F.col('length')).alias('lengthPerDay')).groupBy('userId')\\\n",
    "                            .agg(F.avg(F.col('lengthPerDay')).alias('avgLengthPerDay'))\\\n",
    "                            .join(df_user_churn, ['userId'])\n",
    "df_length_per_week = df_clean.withColumn('ts', F.date_trunc('week', F.col('ts'))).groupBy(['userId', 'ts'])\\\n",
    "                            .agg(F.sum(F.col('length')).alias('lengthPerWeek')).groupBy('userId')\\\n",
    "                            .agg(F.avg(F.col('lengthPerWeek')).alias('avgLengthPerWeek'))\\\n",
    "                            .join(df_user_churn, ['userId'])\n",
    "df_length_per_month = df_clean.withColumn('ts', F.date_trunc('month', F.col('ts'))).groupBy(['userId', 'ts'])\\\n",
    "                            .agg(F.sum(F.col('length')).alias('lengthPerMonth')).groupBy('userId')\\\n",
    "                            .agg(F.avg(F.col('lengthPerMonth')).alias('avgLengthPerMonth'))\\\n",
    "                            .join(df_user_churn, ['userId'])\n",
    "\n",
    "pd_length_per_day = df_length_per_day.toPandas()\n",
    "pd_length_per_week = df_length_per_week.toPandas()\n",
    "pd_length_per_month = df_length_per_month.toPandas()\n",
    "\n",
    "# Visualize the items per session average \n",
    "length_dfs = [pd_length_per_day, pd_length_per_week, pd_length_per_month]\n",
    "length_interval = ['avgLengthPerDay', 'avgLengthPerWeek', 'avgLengthPerMonth']\n",
    "interval_names = ['Day', 'Week', 'Month']\n",
    "\n",
    "\n",
    "kwargs = dict(alpha=0.5)\n",
    "\n",
    "fig = plt.figure(figsize=(20, 5))\n",
    "for i, length_df in enumerate(length_dfs):\n",
    "    nochurned = length_df[length_df.isChurn == 0][length_interval[i]]\n",
    "    churned = length_df[length_df.isChurn == 1][length_interval[i]]\n",
    "    \n",
    "    fig.add_subplot(1, 3, i + 1)\n",
    "\n",
    "    plt.hist(nochurned, **kwargs, color='g', label='Not Churned', density=True)\n",
    "    plt.hist(churned, **kwargs, color='r', label='Churned', density=True)\n",
    "\n",
    "    plt.title('Average Length per ' + interval_names[i] + ' Density')\n",
    "    plt.xlabel('Average Length per ' + interval_names[i])\n",
    "    plt.ylabel('Total User Density')\n",
    "\n",
    "    plt.legend()\n",
    "plt.show();"
   ]
  },
  {
   "cell_type": "markdown",
   "metadata": {},
   "source": [
    "> These features might also prove useful to the training process, since their distributions seems different in central values or in the prevalence of certain values."
   ]
  },
  {
   "cell_type": "code",
   "execution_count": 11,
   "metadata": {},
   "outputs": [
    {
     "data": {
      "image/png": "[encoded data removed]",
      "text/plain": [
       "<matplotlib.figure.Figure at 0x7f5a8d53b588>"
      ]
     },
     "metadata": {
      "needs_background": "light"
     },
     "output_type": "display_data"
    }
   ],
   "source": [
    "# Exploring number of songs by time interval: day, week, month\n",
    "df_songs_per_day = df_clean.filter('page == \"NextSong\"').withColumn('ts', F.date_trunc('day', F.col('ts')))\\\n",
    "                            .groupBy(['userId', 'ts']).agg(F.count(F.col('page')).alias('songsPerDay'))\\\n",
    "                            .groupBy(['userId']).agg(F.avg(F.col('songsPerDay')).alias('avgSongsPerDay'))\\\n",
    "                            .join(df_user_churn, ['userId'])\n",
    "df_songs_per_week = df_clean.filter('page == \"NextSong\"').withColumn('ts', F.date_trunc('week', F.col('ts')))\\\n",
    "                            .groupBy(['userId', 'ts']).agg(F.count(F.col('page')).alias('songsPerWeek'))\\\n",
    "                            .groupBy(['userId']).agg(F.avg(F.col('songsPerWeek')).alias('avgSongsPerWeek'))\\\n",
    "                            .join(df_user_churn, ['userId'])\n",
    "df_songs_per_month = df_clean.filter('page == \"NextSong\"').withColumn('ts', F.date_trunc('month', F.col('ts')))\\\n",
    "                            .groupBy(['userId', 'ts']).agg(F.count(F.col('page')).alias('songsPerMonth'))\\\n",
    "                            .groupBy(['userId']).agg(F.avg(F.col('songsPerMonth')).alias('avgSongsPerMonth'))\\\n",
    "                            .join(df_user_churn, ['userId'])\n",
    "\n",
    "pd_songs_per_day = df_songs_per_day.toPandas()\n",
    "pd_songs_per_week = df_songs_per_week.toPandas()\n",
    "pd_songs_per_month = df_songs_per_month.toPandas()\n",
    "\n",
    "# Visualize the items per session average \n",
    "songs_dfs = [pd_songs_per_day, pd_songs_per_week, pd_songs_per_month]\n",
    "songs_interval = ['avgSongsPerDay', 'avgSongsPerWeek', 'avgSongsPerMonth']\n",
    "interval_names = ['Day', 'Week', 'Month']\n",
    "\n",
    "\n",
    "kwargs = dict(alpha=0.5)\n",
    "\n",
    "fig = plt.figure(figsize=(20, 5))\n",
    "for i, song_df in enumerate(songs_dfs):\n",
    "    nochurned = song_df[song_df.isChurn == 0][songs_interval[i]]\n",
    "    churned = song_df[song_df.isChurn == 1][songs_interval[i]]\n",
    "    \n",
    "    fig.add_subplot(1, 3, i + 1)\n",
    "\n",
    "    plt.hist(nochurned, **kwargs, color='g', label='Not Churned', density=True)\n",
    "    plt.hist(churned, **kwargs, color='r', label='Churned', density=True)\n",
    "\n",
    "    plt.title('Average Songs Played per ' + interval_names[i] + ' Density')\n",
    "    plt.xlabel('Average Songs Played per ' + interval_names[i])\n",
    "    plt.ylabel('Total User Density')\n",
    "\n",
    "    plt.legend()\n",
    "plt.show();"
   ]
  },
  {
   "cell_type": "markdown",
   "metadata": {},
   "source": [
    "> As with the average length of songs played within an interval above, average number of songs might also be good features, given the difference in density or central value between group distributions."
   ]
  },
  {
   "cell_type": "code",
   "execution_count": 12,
   "metadata": {},
   "outputs": [
    {
     "data": {
      "image/png": "[encoded data removed]",
      "text/plain": [
       "<matplotlib.figure.Figure at 0x7f5a8d5ed2e8>"
      ]
     },
     "metadata": {
      "needs_background": "light"
     },
     "output_type": "display_data"
    }
   ],
   "source": [
    "# Exploring number of sessions by time interval: day, week, month\n",
    "df_sessions_per_day = df_clean.withColumn('ts', F.date_trunc('day', F.col('ts'))).groupBy(['userId', 'ts'])\\\n",
    "                        .agg(F.countDistinct(F.col('sessionId')).alias('sessionsPerDay')).groupBy('userId')\\\n",
    "                        .agg(F.avg(F.col('sessionsPerDay')).alias('avgSessionsPerDay'))\\\n",
    "                        .join(df_user_churn, ['userId'])\n",
    "df_sessions_per_week = df_clean.withColumn('ts', F.date_trunc('week', F.col('ts'))).groupBy(['userId', 'ts'])\\\n",
    "                        .agg(F.countDistinct(F.col('sessionId')).alias('sessionsPerWeek')).groupBy('userId')\\\n",
    "                        .agg(F.avg(F.col('sessionsPerWeek')).alias('avgSessionsPerWeek'))\\\n",
    "                        .join(df_user_churn, ['userId'])\n",
    "df_sessions_per_month = df_clean.withColumn('ts', F.date_trunc('month', F.col('ts'))).groupBy(['userId', 'ts'])\\\n",
    "                        .agg(F.countDistinct(F.col('sessionId')).alias('sessionsPerMonth')).groupBy('userId')\\\n",
    "                        .agg(F.avg(F.col('sessionsPerMonth')).alias('avgSessionsPerMonth'))\\\n",
    "                        .join(df_user_churn, ['userId'])\n",
    "\n",
    "pd_sessions_per_day = df_sessions_per_day.toPandas()\n",
    "pd_sessions_per_week = df_sessions_per_week.toPandas()\n",
    "pd_sessions_per_month = df_sessions_per_month.toPandas()\n",
    "\n",
    "# Visualize the items per session average \n",
    "sessions_dfs = [pd_sessions_per_day, pd_sessions_per_week, pd_sessions_per_month]\n",
    "sessions_interval = ['avgSessionsPerDay', 'avgSessionsPerWeek', 'avgSessionsPerMonth']\n",
    "interval_names = ['Day', 'Week', 'Month']\n",
    "\n",
    "\n",
    "kwargs = dict(alpha=0.5)\n",
    "\n",
    "fig = plt.figure(figsize=(20, 5))\n",
    "for i, sessions_df in enumerate(sessions_dfs):\n",
    "    nochurned = sessions_df[sessions_df.isChurn == 0][sessions_interval[i]]\n",
    "    churned = sessions_df[sessions_df.isChurn == 1][sessions_interval[i]]\n",
    "    \n",
    "    fig.add_subplot(1, 3, i + 1)\n",
    "\n",
    "    plt.hist(nochurned, **kwargs, color='g', label='Not Churned', density=True)\n",
    "    plt.hist(churned, **kwargs, color='r', label='Churned', density=True)\n",
    "\n",
    "    plt.title('Average Sessions per ' + interval_names[i] + ' Density')\n",
    "    plt.xlabel('Average Sessions per ' + interval_names[i])\n",
    "    plt.ylabel('Average Total User Density')\n",
    "\n",
    "    plt.legend()\n",
    "plt.show();"
   ]
  },
  {
   "cell_type": "markdown",
   "metadata": {},
   "source": [
    "> The difference between group distributions also suggests to include these features to the training. It's also interesting to note that the distribution of people who churn tend to have thicker upper-tail."
   ]
  },
  {
   "cell_type": "markdown",
   "metadata": {},
   "source": [
    "# Feature Engineering\n",
    "Once you've familiarized yourself with the data, build out the features you find promising to train your model on. To work with the full dataset, you can follow the following steps.\n",
    "- Write a script to extract the necessary features from the smaller subset of data\n",
    "- Ensure that your script is scalable, using the best practices discussed in Lesson 3\n",
    "- Try your script on the full data set, debugging your script if necessary\n",
    "\n",
    "If you are working in the classroom workspace, you can just extract features based on the small subset of data contained here. Be sure to transfer over this work to the larger dataset when you work on your Spark cluster."
   ]
  },
  {
   "cell_type": "code",
   "execution_count": 41,
   "metadata": {},
   "outputs": [],
   "source": [
    "# Create new dataframe to train the model\n",
    "df_transformed = df_user_churn"
   ]
  },
  {
   "cell_type": "markdown",
   "metadata": {},
   "source": [
    "### Extract features: sum of each page visits"
   ]
  },
  {
   "cell_type": "code",
   "execution_count": 42,
   "metadata": {},
   "outputs": [
    {
     "data": {
      "text/plain": [
       "Row(userId='100010', isChurn=0, sumPageCancel=0, sumPageSubmitDowngrade=0, sumPageThumbsDown=5, sumPageHome=11, sumPageDowngrade=0, sumPageRollAdvert=52, sumPageLogout=5, sumPageSaveSettings=0, sumPageAbout=1, sumPageSettings=0, sumPageAddtoPlaylist=7, sumPageAddFriend=4, sumPageThumbsUp=17, sumPageHelp=2, sumPageUpgrade=2, sumPageError=0, sumPageSubmitUpgrade=0)"
      ]
     },
     "execution_count": 42,
     "metadata": {},
     "output_type": "execute_result"
    }
   ],
   "source": [
    "pd_page_names = df_clean.select('page').distinct().toPandas()\n",
    "page_names = pd_page_names.page.tolist()\n",
    "page_names.remove('Cancellation Confirmation') # will be for the label\n",
    "page_names.remove('NextSong') # will be engineered with the average songs played by time interval\n",
    "\n",
    "for page in page_names:\n",
    "    df_page = df_clean.groupBy(['userId', 'page']).agg(F.count(F.col('page'))\\\n",
    "                    .alias('sumPage' + page.replace(' ', ''))).filter('page == \"' + page + '\"').drop('page')\n",
    "    df_transformed = df_transformed.join(df_page, ['userId'], 'left').fillna(0)\n",
    "\n",
    "df_transformed.head()"
   ]
  },
  {
   "cell_type": "markdown",
   "metadata": {},
   "source": [
    "### Extract Features: gender"
   ]
  },
  {
   "cell_type": "code",
   "execution_count": 43,
   "metadata": {},
   "outputs": [
    {
     "data": {
      "text/plain": [
       "Row(userId='100010', isChurn=0, sumPageCancel=0, sumPageSubmitDowngrade=0, sumPageThumbsDown=5, sumPageHome=11, sumPageDowngrade=0, sumPageRollAdvert=52, sumPageLogout=5, sumPageSaveSettings=0, sumPageAbout=1, sumPageSettings=0, sumPageAddtoPlaylist=7, sumPageAddFriend=4, sumPageThumbsUp=17, sumPageHelp=2, sumPageUpgrade=2, sumPageError=0, sumPageSubmitUpgrade=0, gender=1)"
      ]
     },
     "execution_count": 43,
     "metadata": {},
     "output_type": "execute_result"
    }
   ],
   "source": [
    "df_gender = df_clean.select('userId', 'gender').distinct()\n",
    "isGender = F.udf(lambda gender: 0 if gender == 'M' else 1, IntegerType())\n",
    "df_gender = df_gender.withColumn('gender', isGender(F.col('gender')))\n",
    "df_transformed = df_transformed.join(df_gender, ['userId'])\n",
    "\n",
    "df_transformed.head()"
   ]
  },
  {
   "cell_type": "markdown",
   "metadata": {},
   "source": [
    "### Extract Feature: has a user paid for upgrade?"
   ]
  },
  {
   "cell_type": "code",
   "execution_count": 45,
   "metadata": {},
   "outputs": [
    {
     "data": {
      "text/plain": [
       "Row(userId='100010', isChurn=0, sumPageCancel=0, sumPageSubmitDowngrade=0, sumPageThumbsDown=5, sumPageHome=11, sumPageDowngrade=0, sumPageRollAdvert=52, sumPageLogout=5, sumPageSaveSettings=0, sumPageAbout=1, sumPageSettings=0, sumPageAddtoPlaylist=7, sumPageAddFriend=4, sumPageThumbsUp=17, sumPageHelp=2, sumPageUpgrade=2, sumPageError=0, sumPageSubmitUpgrade=0, gender=1, havePaid=0)"
      ]
     },
     "execution_count": 45,
     "metadata": {},
     "output_type": "execute_result"
    }
   ],
   "source": [
    "df_havePaid = df_clean.groupBy('userId').agg(F.max(F.col('level')).alias('havePaid'))\n",
    "havePaid = F.udf(lambda x: 0 if x == 'free' else 1, IntegerType())\n",
    "df_havePaid = df_havePaid.withColumn('havePaid', havePaid(F.col('havePaid')))\n",
    "df_transformed = df_transformed.join(df_havePaid, ['userId'])\n",
    "\n",
    "df_transformed.head()"
   ]
  },
  {
   "cell_type": "markdown",
   "metadata": {},
   "source": [
    "### Extract Feature: average item per session"
   ]
  },
  {
   "cell_type": "code",
   "execution_count": 46,
   "metadata": {},
   "outputs": [
    {
     "data": {
      "text/plain": [
       "Row(userId='100010', isChurn=0, sumPageCancel=0, sumPageSubmitDowngrade=0, sumPageThumbsDown=5, sumPageHome=11, sumPageDowngrade=0, sumPageRollAdvert=52, sumPageLogout=5, sumPageSaveSettings=0, sumPageAbout=1, sumPageSettings=0, sumPageAddtoPlaylist=7, sumPageAddFriend=4, sumPageThumbsUp=17, sumPageHelp=2, sumPageUpgrade=2, sumPageError=0, sumPageSubmitUpgrade=0, gender=1, havePaid=0, avgItemsPerSession=54.42857142857143)"
      ]
     },
     "execution_count": 46,
     "metadata": {},
     "output_type": "execute_result"
    }
   ],
   "source": [
    "# Extract featurs: avgItemPerSession\n",
    "df_avgItemPerSession = df_clean.groupBy(['userId', 'sessionId'])\\\n",
    "                            .agg(F.max(F.col('itemInSession')).alias('itemsTotal'))\\\n",
    "                            .groupBy('userId').agg(F.avg(F.col('itemsTotal')).alias('avgItemsPerSession'))\n",
    "df_transformed = df_transformed.join(df_avgItemPerSession, ['userId'])\n",
    "\n",
    "df_transformed.head()"
   ]
  },
  {
   "cell_type": "markdown",
   "metadata": {},
   "source": [
    "### Extract Featurs: average length of songs heard per day, week, & month"
   ]
  },
  {
   "cell_type": "code",
   "execution_count": 48,
   "metadata": {},
   "outputs": [
    {
     "data": {
      "text/plain": [
       "Row(userId='100010', isChurn=0, sumPageCancel=0, sumPageSubmitDowngrade=0, sumPageThumbsDown=5, sumPageHome=11, sumPageDowngrade=0, sumPageRollAdvert=52, sumPageLogout=5, sumPageSaveSettings=0, sumPageAbout=1, sumPageSettings=0, sumPageAddtoPlaylist=7, sumPageAddFriend=4, sumPageThumbsUp=17, sumPageHelp=2, sumPageUpgrade=2, sumPageError=0, sumPageSubmitUpgrade=0, gender=1, havePaid=0, avgItemsPerSession=54.42857142857143, avgLengthPerDay=9562.985335714286, avgLengthPerWeek=16735.224337499996, avgLengthPerMonth=33470.448675)"
      ]
     },
     "execution_count": 48,
     "metadata": {},
     "output_type": "execute_result"
    }
   ],
   "source": [
    "df_length_per_day = df_clean.withColumn('ts', F.date_trunc('day', F.col('ts'))).groupBy(['userId', 'ts'])\\\n",
    "                            .agg(F.sum(F.col('length')).alias('lengthPerDay')).groupBy('userId')\\\n",
    "                            .agg(F.avg(F.col('lengthPerDay')).alias('avgLengthPerDay'))\n",
    "df_length_per_week = df_clean.withColumn('ts', F.date_trunc('week', F.col('ts'))).groupBy(['userId', 'ts'])\\\n",
    "                            .agg(F.sum(F.col('length')).alias('lengthPerWeek')).groupBy('userId')\\\n",
    "                            .agg(F.avg(F.col('lengthPerWeek')).alias('avgLengthPerWeek'))\n",
    "df_length_per_month = df_clean.withColumn('ts', F.date_trunc('month', F.col('ts'))).groupBy(['userId', 'ts'])\\\n",
    "                            .agg(F.sum(F.col('length')).alias('lengthPerMonth')).groupBy('userId')\\\n",
    "                            .agg(F.avg(F.col('lengthPerMonth')).alias('avgLengthPerMonth'))\n",
    "\n",
    "df_transformed = df_transformed.join(df_length_per_day, ['userId'])\\\n",
    "                            .join(df_length_per_week, ['userId'])\\\n",
    "                            .join(df_length_per_month, ['userId'])\n",
    "\n",
    "df_transformed.head()"
   ]
  },
  {
   "cell_type": "markdown",
   "metadata": {},
   "source": [
    "### Extract Features: average number of songs played by day, week, & month"
   ]
  },
  {
   "cell_type": "code",
   "execution_count": 49,
   "metadata": {},
   "outputs": [
    {
     "data": {
      "text/plain": [
       "Row(userId='100010', isChurn=0, sumPageCancel=0, sumPageSubmitDowngrade=0, sumPageThumbsDown=5, sumPageHome=11, sumPageDowngrade=0, sumPageRollAdvert=52, sumPageLogout=5, sumPageSaveSettings=0, sumPageAbout=1, sumPageSettings=0, sumPageAddtoPlaylist=7, sumPageAddFriend=4, sumPageThumbsUp=17, sumPageHelp=2, sumPageUpgrade=2, sumPageError=0, sumPageSubmitUpgrade=0, gender=1, havePaid=0, avgItemsPerSession=54.42857142857143, avgLengthPerDay=9562.985335714286, avgLengthPerWeek=16735.224337499996, avgLengthPerMonth=33470.448675, avgSongsPerDay=39.285714285714285, avgSongsPerWeek=68.75, avgSongsPerMonth=137.5)"
      ]
     },
     "execution_count": 49,
     "metadata": {},
     "output_type": "execute_result"
    }
   ],
   "source": [
    "# Extract features: number of songs by time interval\n",
    "df_songs_per_day = df_clean.filter('page == \"NextSong\"').withColumn('ts', F.date_trunc('day', F.col('ts')))\\\n",
    "                            .groupBy(['userId', 'ts']).agg(F.count(F.col('page')).alias('songsPerDay'))\\\n",
    "                            .groupBy(['userId']).agg(F.avg(F.col('songsPerDay')).alias('avgSongsPerDay'))\n",
    "df_songs_per_week = df_clean.filter('page == \"NextSong\"').withColumn('ts', F.date_trunc('week', F.col('ts')))\\\n",
    "                            .groupBy(['userId', 'ts']).agg(F.count(F.col('page')).alias('songsPerWeek'))\\\n",
    "                            .groupBy(['userId']).agg(F.avg(F.col('songsPerWeek')).alias('avgSongsPerWeek'))\n",
    "df_songs_per_month = df_clean.filter('page == \"NextSong\"').withColumn('ts', F.date_trunc('month', F.col('ts')))\\\n",
    "                            .groupBy(['userId', 'ts']).agg(F.count(F.col('page')).alias('songsPerMonth'))\\\n",
    "                            .groupBy(['userId']).agg(F.avg(F.col('songsPerMonth')).alias('avgSongsPerMonth'))\n",
    "\n",
    "df_transformed = df_transformed.join(df_songs_per_day, ['userId'])\\\n",
    "                            .join(df_songs_per_week, ['userId'])\\\n",
    "                            .join(df_songs_per_month, ['userId'])\n",
    "\n",
    "df_transformed.head()"
   ]
  },
  {
   "cell_type": "markdown",
   "metadata": {},
   "source": [
    "### Extract Features: average number of sessions per day, week, & month"
   ]
  },
  {
   "cell_type": "code",
   "execution_count": 50,
   "metadata": {},
   "outputs": [
    {
     "data": {
      "text/plain": [
       "Row(userId='100010', isChurn=0, sumPageCancel=0, sumPageSubmitDowngrade=0, sumPageThumbsDown=5, sumPageHome=11, sumPageDowngrade=0, sumPageRollAdvert=52, sumPageLogout=5, sumPageSaveSettings=0, sumPageAbout=1, sumPageSettings=0, sumPageAddtoPlaylist=7, sumPageAddFriend=4, sumPageThumbsUp=17, sumPageHelp=2, sumPageUpgrade=2, sumPageError=0, sumPageSubmitUpgrade=0, gender=1, havePaid=0, avgItemsPerSession=54.42857142857143, avgLengthPerDay=9562.985335714286, avgLengthPerWeek=16735.224337499996, avgLengthPerMonth=33470.448675, avgSongsPerDay=39.285714285714285, avgSongsPerWeek=68.75, avgSongsPerMonth=137.5, avgSessionsPerDay=1.0, avgSessionsPerWeek=1.75, avgSessionsPerMonth=3.5)"
      ]
     },
     "execution_count": 50,
     "metadata": {},
     "output_type": "execute_result"
    }
   ],
   "source": [
    "# Extract features: number of sessions by time interval\n",
    "df_sessions_per_day = df_clean.withColumn('ts', F.date_trunc('day', F.col('ts'))).groupBy(['userId', 'ts'])\\\n",
    "                        .agg(F.countDistinct(F.col('sessionId')).alias('sessionsPerDay')).groupBy('userId')\\\n",
    "                        .agg(F.avg(F.col('sessionsPerDay')).alias('avgSessionsPerDay'))\n",
    "df_sessions_per_week = df_clean.withColumn('ts', F.date_trunc('week', F.col('ts'))).groupBy(['userId', 'ts'])\\\n",
    "                        .agg(F.countDistinct(F.col('sessionId')).alias('sessionsPerWeek')).groupBy('userId')\\\n",
    "                        .agg(F.avg(F.col('sessionsPerWeek')).alias('avgSessionsPerWeek'))\n",
    "df_sessions_per_month = df_clean.withColumn('ts', F.date_trunc('month', F.col('ts'))).groupBy(['userId', 'ts'])\\\n",
    "                        .agg(F.countDistinct(F.col('sessionId')).alias('sessionsPerMonth')).groupBy('userId')\\\n",
    "                        .agg(F.avg(F.col('sessionsPerMonth')).alias('avgSessionsPerMonth'))\n",
    "\n",
    "df_transformed = df_transformed.join(df_sessions_per_day, ['userId'])\\\n",
    "                            .join(df_sessions_per_week, ['userId'])\\\n",
    "                            .join(df_sessions_per_month, ['userId'])\n",
    "\n",
    "df_transformed.head()"
   ]
  },
  {
   "cell_type": "markdown",
   "metadata": {},
   "source": [
    "### Note regarding location and user-agent column"
   ]
  },
  {
   "cell_type": "code",
   "execution_count": 51,
   "metadata": {},
   "outputs": [
    {
     "name": "stdout",
     "output_type": "stream",
     "text": [
      "Number of features already extracted: 31\n",
      "Number of unique user-agent: 56\n",
      "Number of unique state: 40\n"
     ]
    }
   ],
   "source": [
    "print('Number of features already extracted:', len(df_transformed.columns))\n",
    "print('Number of unique user-agent:', df_clean.select('userAgent').distinct().count())\n",
    "print('Number of unique state:', df.withColumn('stateCode', df.location.substr(-2, 2)).select('stateCode').distinct().count())"
   ]
  },
  {
   "cell_type": "markdown",
   "metadata": {},
   "source": [
    "> If I add each user-agent and state location as one-hot encoding features, the number of features would be more than half the number of data point (225). Thus, these features are currently neglected and reserved for a bigger dataset."
   ]
  },
  {
   "cell_type": "code",
   "execution_count": 53,
   "metadata": {},
   "outputs": [
    {
     "data": {
      "text/plain": [
       "225"
      ]
     },
     "execution_count": 53,
     "metadata": {},
     "output_type": "execute_result"
    }
   ],
   "source": [
    "df_transformed.count()"
   ]
  },
  {
   "cell_type": "code",
   "execution_count": 54,
   "metadata": {},
   "outputs": [
    {
     "name": "stdout",
     "output_type": "stream",
     "text": [
      "userId missing values total: 0\n",
      "isChurn missing values total: 0\n",
      "sumPageCancel missing values total: 0\n",
      "sumPageSubmitDowngrade missing values total: 0\n",
      "sumPageThumbsDown missing values total: 0\n",
      "sumPageHome missing values total: 0\n",
      "sumPageDowngrade missing values total: 0\n",
      "sumPageRollAdvert missing values total: 0\n",
      "sumPageLogout missing values total: 0\n",
      "sumPageSaveSettings missing values total: 0\n",
      "sumPageAbout missing values total: 0\n",
      "sumPageSettings missing values total: 0\n",
      "sumPageAddtoPlaylist missing values total: 0\n",
      "sumPageAddFriend missing values total: 0\n",
      "sumPageThumbsUp missing values total: 0\n",
      "sumPageHelp missing values total: 0\n",
      "sumPageUpgrade missing values total: 0\n",
      "sumPageError missing values total: 0\n",
      "sumPageSubmitUpgrade missing values total: 0\n",
      "gender missing values total: 0\n",
      "havePaid missing values total: 0\n",
      "avgItemsPerSession missing values total: 0\n",
      "avgLengthPerDay missing values total: 0\n",
      "avgLengthPerWeek missing values total: 0\n",
      "avgLengthPerMonth missing values total: 0\n",
      "avgSongsPerDay missing values total: 0\n",
      "avgSongsPerWeek missing values total: 0\n",
      "avgSongsPerMonth missing values total: 0\n",
      "avgSessionsPerDay missing values total: 0\n",
      "avgSessionsPerWeek missing values total: 0\n",
      "avgSessionsPerMonth missing values total: 0\n"
     ]
    }
   ],
   "source": [
    "# Check if there's any NaN\n",
    "for column in df_transformed.columns:\n",
    "    print(column, 'missing values total:', df_transformed.filter(F.isnull(df_transformed[column])).count())"
   ]
  },
  {
   "cell_type": "code",
   "execution_count": 52,
   "metadata": {},
   "outputs": [],
   "source": [
    "# Save transformed dataframe\n",
    "df_transformed.write.json(path='spark-warehouse/mini_sparkify_transformed_data.json', mode='overwrite')"
   ]
  },
  {
   "cell_type": "code",
   "execution_count": 4,
   "metadata": {},
   "outputs": [
    {
     "data": {
      "text/plain": [
       "DataFrame[avgItemsPerSession: double, avgLengthPerDay: double, avgLengthPerMonth: double, avgLengthPerWeek: double, avgSessionsPerDay: double, avgSessionsPerMonth: double, avgSessionsPerWeek: double, avgSongsPerDay: double, avgSongsPerMonth: double, avgSongsPerWeek: double, gender: bigint, havePaid: bigint, isChurn: bigint, sumPageAbout: bigint, sumPageAddFriend: bigint, sumPageAddtoPlaylist: bigint, sumPageCancel: bigint, sumPageDowngrade: bigint, sumPageError: bigint, sumPageHelp: bigint, sumPageHome: bigint, sumPageLogout: bigint, sumPageRollAdvert: bigint, sumPageSaveSettings: bigint, sumPageSettings: bigint, sumPageSubmitDowngrade: bigint, sumPageSubmitUpgrade: bigint, sumPageThumbsDown: bigint, sumPageThumbsUp: bigint, sumPageUpgrade: bigint, userId: string]"
      ]
     },
     "execution_count": 4,
     "metadata": {},
     "output_type": "execute_result"
    }
   ],
   "source": [
    "# Load dataset\n",
    "df_transformed = spark.read.json('spark-warehouse/mini_sparkify_transformed_data.json')\n",
    "\n",
    "df_transformed.persist()"
   ]
  },
  {
   "cell_type": "code",
   "execution_count": 5,
   "metadata": {},
   "outputs": [
    {
     "data": {
      "text/plain": [
       "225"
      ]
     },
     "execution_count": 5,
     "metadata": {},
     "output_type": "execute_result"
    }
   ],
   "source": [
    "df_transformed.count()"
   ]
  },
  {
   "cell_type": "code",
   "execution_count": 13,
   "metadata": {},
   "outputs": [
    {
     "name": "stdout",
     "output_type": "stream",
     "text": [
      "root\n",
      " |-- avgItemsPerSession: double (nullable = true)\n",
      " |-- avgLengthPerDay: double (nullable = true)\n",
      " |-- avgLengthPerMonth: double (nullable = true)\n",
      " |-- avgLengthPerWeek: double (nullable = true)\n",
      " |-- avgSessionsPerDay: double (nullable = true)\n",
      " |-- avgSessionsPerMonth: double (nullable = true)\n",
      " |-- avgSessionsPerWeek: double (nullable = true)\n",
      " |-- avgSongsPerDay: double (nullable = true)\n",
      " |-- avgSongsPerMonth: double (nullable = true)\n",
      " |-- avgSongsPerWeek: double (nullable = true)\n",
      " |-- gender: long (nullable = true)\n",
      " |-- havePaid: long (nullable = true)\n",
      " |-- isChurn: long (nullable = true)\n",
      " |-- sumPageAbout: long (nullable = true)\n",
      " |-- sumPageAddFriend: long (nullable = true)\n",
      " |-- sumPageAddtoPlaylist: long (nullable = true)\n",
      " |-- sumPageCancel: long (nullable = true)\n",
      " |-- sumPageDowngrade: long (nullable = true)\n",
      " |-- sumPageError: long (nullable = true)\n",
      " |-- sumPageHelp: long (nullable = true)\n",
      " |-- sumPageHome: long (nullable = true)\n",
      " |-- sumPageLogout: long (nullable = true)\n",
      " |-- sumPageRollAdvert: long (nullable = true)\n",
      " |-- sumPageSaveSettings: long (nullable = true)\n",
      " |-- sumPageSettings: long (nullable = true)\n",
      " |-- sumPageSubmitDowngrade: long (nullable = true)\n",
      " |-- sumPageSubmitUpgrade: long (nullable = true)\n",
      " |-- sumPageThumbsDown: long (nullable = true)\n",
      " |-- sumPageThumbsUp: long (nullable = true)\n",
      " |-- sumPageUpgrade: long (nullable = true)\n",
      " |-- userId: string (nullable = true)\n",
      "\n"
     ]
    }
   ],
   "source": [
    "df_transformed.printSchema()"
   ]
  },
  {
   "cell_type": "markdown",
   "metadata": {},
   "source": [
    "# Modeling\n",
    "Split the full dataset into train, test, and validation sets. Test out several of the machine learning methods you learned. Evaluate the accuracy of the various models, tuning parameters as necessary. Determine your winning model based on test accuracy and report results on the validation set. Since the churned users are a fairly small subset, I suggest using F1 score as the metric to optimize."
   ]
  },
  {
   "cell_type": "markdown",
   "metadata": {},
   "source": [
    "### Assembling Features into a Vector"
   ]
  },
  {
   "cell_type": "code",
   "execution_count": 27,
   "metadata": {
    "scrolled": true
   },
   "outputs": [
    {
     "data": {
      "text/plain": [
       "['avgItemsPerSession',\n",
       " 'avgLengthPerDay',\n",
       " 'avgLengthPerMonth',\n",
       " 'avgLengthPerWeek',\n",
       " 'avgSessionsPerDay',\n",
       " 'avgSessionsPerMonth',\n",
       " 'avgSessionsPerWeek',\n",
       " 'avgSongsPerDay',\n",
       " 'avgSongsPerMonth',\n",
       " 'avgSongsPerWeek',\n",
       " 'gender',\n",
       " 'havePaid',\n",
       " 'sumPageAbout',\n",
       " 'sumPageAddFriend',\n",
       " 'sumPageAddtoPlaylist',\n",
       " 'sumPageCancel',\n",
       " 'sumPageDowngrade',\n",
       " 'sumPageError',\n",
       " 'sumPageHelp',\n",
       " 'sumPageHome',\n",
       " 'sumPageLogout',\n",
       " 'sumPageRollAdvert',\n",
       " 'sumPageSaveSettings',\n",
       " 'sumPageSettings',\n",
       " 'sumPageSubmitDowngrade',\n",
       " 'sumPageSubmitUpgrade',\n",
       " 'sumPageThumbsDown',\n",
       " 'sumPageThumbsUp',\n",
       " 'sumPageUpgrade']"
      ]
     },
     "execution_count": 27,
     "metadata": {},
     "output_type": "execute_result"
    }
   ],
   "source": [
    "# Assemble features in a vector\n",
    "feature_names = df_transformed.columns\n",
    "feature_names.remove('isChurn')\n",
    "feature_names.remove('userId')\n",
    "feature_names"
   ]
  },
  {
   "cell_type": "code",
   "execution_count": 28,
   "metadata": {},
   "outputs": [
    {
     "data": {
      "text/plain": [
       "Row(avgItemsPerSession=60.666666666666664, avgLengthPerDay=12183.17838368421, avgLengthPerMonth=115740.19464500001, avgLengthPerWeek=25720.043254444445, avgSessionsPerDay=1.263157894736842, avgSessionsPerMonth=10.5, avgSessionsPerWeek=2.3333333333333335, avgSongsPerDay=49.578947368421055, avgSongsPerMonth=471.0, avgSongsPerWeek=104.66666666666667, gender=1, havePaid=1, isChurn=0, sumPageAbout=0, sumPageAddFriend=19, sumPageAddtoPlaylist=23, sumPageCancel=0, sumPageDowngrade=10, sumPageError=2, sumPageHelp=6, sumPageHome=66, sumPageLogout=19, sumPageRollAdvert=86, sumPageSaveSettings=2, sumPageSettings=11, sumPageSubmitDowngrade=2, sumPageSubmitUpgrade=3, sumPageThumbsDown=11, sumPageThumbsUp=35, sumPageUpgrade=8, userId='100004', featuresAssembled=DenseVector([60.6667, 12183.1784, 115740.1946, 25720.0433, 1.2632, 10.5, 2.3333, 49.5789, 471.0, 104.6667, 1.0, 1.0, 0.0, 19.0, 23.0, 0.0, 10.0, 2.0, 6.0, 66.0, 19.0, 86.0, 2.0, 11.0, 2.0, 3.0, 11.0, 35.0, 8.0]))"
      ]
     },
     "execution_count": 28,
     "metadata": {},
     "output_type": "execute_result"
    }
   ],
   "source": [
    "# Assemble features in a vector\n",
    "assembler = VectorAssembler(inputCols=feature_names, outputCol='featuresAssembled')\n",
    "df_assembled = assembler.transform(df_transformed)\n",
    "df_assembled.head()"
   ]
  },
  {
   "cell_type": "markdown",
   "metadata": {},
   "source": [
    "### Scaling Features"
   ]
  },
  {
   "cell_type": "code",
   "execution_count": 29,
   "metadata": {},
   "outputs": [
    {
     "data": {
      "text/plain": [
       "Row(avgItemsPerSession=60.666666666666664, avgLengthPerDay=12183.17838368421, avgLengthPerMonth=115740.19464500001, avgLengthPerWeek=25720.043254444445, avgSessionsPerDay=1.263157894736842, avgSessionsPerMonth=10.5, avgSessionsPerWeek=2.3333333333333335, avgSongsPerDay=49.578947368421055, avgSongsPerMonth=471.0, avgSongsPerWeek=104.66666666666667, gender=1, havePaid=1, isChurn=0, sumPageAbout=0, sumPageAddFriend=19, sumPageAddtoPlaylist=23, sumPageCancel=0, sumPageDowngrade=10, sumPageError=2, sumPageHelp=6, sumPageHome=66, sumPageLogout=19, sumPageRollAdvert=86, sumPageSaveSettings=2, sumPageSettings=11, sumPageSubmitDowngrade=2, sumPageSubmitUpgrade=3, sumPageThumbsDown=11, sumPageThumbsUp=35, sumPageUpgrade=8, userId='100004', featuresAssembled=DenseVector([60.6667, 12183.1784, 115740.1946, 25720.0433, 1.2632, 10.5, 2.3333, 49.5789, 471.0, 104.6667, 1.0, 1.0, 0.0, 19.0, 23.0, 0.0, 10.0, 2.0, 6.0, 66.0, 19.0, 86.0, 2.0, 11.0, 2.0, 3.0, 11.0, 35.0, 8.0]), features=DenseVector([0.0005, 0.1022, 0.9711, 0.2158, 0.0, 0.0001, 0.0, 0.0004, 0.004, 0.0009, 0.0, 0.0, 0.0, 0.0002, 0.0002, 0.0, 0.0001, 0.0, 0.0001, 0.0006, 0.0002, 0.0007, 0.0, 0.0001, 0.0, 0.0, 0.0001, 0.0003, 0.0001]))"
      ]
     },
     "execution_count": 29,
     "metadata": {},
     "output_type": "execute_result"
    }
   ],
   "source": [
    "# Rescale the features\n",
    "scaler = Normalizer(inputCol='featuresAssembled', outputCol='features')\n",
    "df_scaled = scaler.transform(df_assembled)\n",
    "df_scaled.head()"
   ]
  },
  {
   "cell_type": "markdown",
   "metadata": {},
   "source": [
    "### Aliasing Label"
   ]
  },
  {
   "cell_type": "code",
   "execution_count": 30,
   "metadata": {},
   "outputs": [
    {
     "data": {
      "text/plain": [
       "Row(label=0, features=DenseVector([0.0005, 0.1022, 0.9711, 0.2158, 0.0, 0.0001, 0.0, 0.0004, 0.004, 0.0009, 0.0, 0.0, 0.0, 0.0002, 0.0002, 0.0, 0.0001, 0.0, 0.0001, 0.0006, 0.0002, 0.0007, 0.0, 0.0001, 0.0, 0.0, 0.0001, 0.0003, 0.0001]))"
      ]
     },
     "execution_count": 30,
     "metadata": {},
     "output_type": "execute_result"
    }
   ],
   "source": [
    "df_ml = df_scaled.select(F.col('isChurn').alias('label'), F.col('features'))\n",
    "df_ml.head()"
   ]
  },
  {
   "cell_type": "code",
   "execution_count": 37,
   "metadata": {},
   "outputs": [],
   "source": [
    "# Save df_ml\n",
    "df_ml.write.json(path='spark-warehouse/mini_sparkify_ml_data.json', mode='overwrite')"
   ]
  },
  {
   "cell_type": "code",
   "execution_count": 6,
   "metadata": {},
   "outputs": [
    {
     "data": {
      "text/plain": [
       "DataFrame[features: struct<indices:array<bigint>,size:bigint,type:bigint,values:array<double>>, label: bigint]"
      ]
     },
     "execution_count": 6,
     "metadata": {},
     "output_type": "execute_result"
    }
   ],
   "source": [
    "df_ml = spark.read.json('spark-warehouse/mini_sparkify_ml_data.json')"
   ]
  },
  {
   "cell_type": "code",
   "execution_count": 36,
   "metadata": {},
   "outputs": [
    {
     "data": {
      "text/plain": [
       "Row(label=0, features=DenseVector([0.0005, 0.1022, 0.9711, 0.2158, 0.0, 0.0001, 0.0, 0.0004, 0.004, 0.0009, 0.0, 0.0, 0.0, 0.0002, 0.0002, 0.0, 0.0001, 0.0, 0.0001, 0.0006, 0.0002, 0.0007, 0.0, 0.0001, 0.0, 0.0, 0.0001, 0.0003, 0.0001]))"
      ]
     },
     "execution_count": 36,
     "metadata": {},
     "output_type": "execute_result"
    }
   ],
   "source": [
    "df_ml.head()"
   ]
  },
  {
   "cell_type": "code",
   "execution_count": 31,
   "metadata": {},
   "outputs": [
    {
     "name": "stdout",
     "output_type": "stream",
     "text": [
      "root\n",
      " |-- label: long (nullable = true)\n",
      " |-- features: vector (nullable = true)\n",
      "\n"
     ]
    }
   ],
   "source": [
    "df_ml.printSchema()"
   ]
  },
  {
   "cell_type": "markdown",
   "metadata": {},
   "source": [
    "### Train and Test Data Split"
   ]
  },
  {
   "cell_type": "code",
   "execution_count": 32,
   "metadata": {},
   "outputs": [],
   "source": [
    "# Split train and test data\n",
    "train, test = df_ml.randomSplit([.8, .2], seed=42)"
   ]
  },
  {
   "cell_type": "markdown",
   "metadata": {},
   "source": [
    "### Logistic Regression Evaluation"
   ]
  },
  {
   "cell_type": "code",
   "execution_count": 33,
   "metadata": {},
   "outputs": [],
   "source": [
    "# Logistic Regression\n",
    "lr = LogisticRegression()\n",
    "\n",
    "lr_param_grid = ParamGridBuilder()\\\n",
    "                .addGrid(lr.regParam, [0.0, 0.1, 0.2])\\\n",
    "                .addGrid(lr.maxIter, [25, 50, 100])\\\n",
    "                .build()\n",
    "lr_cross_val = CrossValidator(estimator=lr,\n",
    "                              estimatorParamMaps=lr_param_grid,\n",
    "                              evaluator=BinaryClassificationEvaluator(),\n",
    "                              numFolds=3)\n",
    "lr_model = lr_cross_val.fit(train)"
   ]
  },
  {
   "cell_type": "code",
   "execution_count": 34,
   "metadata": {},
   "outputs": [
    {
     "data": {
      "text/plain": [
       "[0.9181782116564725,\n",
       " 0.921785079393775,\n",
       " 0.921785079393775,\n",
       " 0.9095974856844422,\n",
       " 0.908388859475816,\n",
       " 0.908388859475816,\n",
       " 0.9002231447883622,\n",
       " 0.8985575398618877,\n",
       " 0.8985575398618877]"
      ]
     },
     "execution_count": 34,
     "metadata": {},
     "output_type": "execute_result"
    }
   ],
   "source": [
    "lr_model.avgMetrics"
   ]
  },
  {
   "cell_type": "code",
   "execution_count": 35,
   "metadata": {},
   "outputs": [
    {
     "name": "stdout",
     "output_type": "stream",
     "text": [
      "Logistic Regression Accuracy: 0.9615384615384616\n"
     ]
    }
   ],
   "source": [
    "# Predict on test dataset\n",
    "lr_result = lr_model.transform(test)\n",
    "acc = lr_result.filter(lr_result.label == lr_result.prediction).count() / lr_result.count()\n",
    "print('Logistic Regression Accuracy:', acc)"
   ]
  },
  {
   "cell_type": "markdown",
   "metadata": {},
   "source": [
    "### Random Forest Evaluation"
   ]
  },
  {
   "cell_type": "code",
   "execution_count": 38,
   "metadata": {},
   "outputs": [],
   "source": [
    "# Random Forest\n",
    "rf = RandomForestClassifier()\n",
    "rf_param_grid = ParamGridBuilder()\\\n",
    "                .addGrid(rf.numTrees, [10, 20, 30])\\\n",
    "                .addGrid(rf.maxDepth, [2, 5, 10])\\\n",
    "                .build()\n",
    "rf_cross_val = CrossValidator(estimator=rf,\n",
    "                              estimatorParamMaps=rf_param_grid,\n",
    "                              evaluator=BinaryClassificationEvaluator(),\n",
    "                              numFolds=3)\n",
    "rf_model = rf_cross_val.fit(train)"
   ]
  },
  {
   "cell_type": "code",
   "execution_count": 39,
   "metadata": {},
   "outputs": [
    {
     "data": {
      "text/plain": [
       "[1.0, 1.0, 1.0, 0.9855072463768115, 1.0, 1.0, 1.0, 1.0, 1.0]"
      ]
     },
     "execution_count": 39,
     "metadata": {},
     "output_type": "execute_result"
    }
   ],
   "source": [
    "rf_model.avgMetrics"
   ]
  },
  {
   "cell_type": "code",
   "execution_count": 40,
   "metadata": {},
   "outputs": [
    {
     "name": "stdout",
     "output_type": "stream",
     "text": [
      "Random Forest Accuracy: 1.0\n"
     ]
    }
   ],
   "source": [
    "# Predict on test dataset\n",
    "rf_result = rf_model.transform(test)\n",
    "acc = rf_result.filter(rf_result.label == rf_result.prediction).count() / rf_result.count()\n",
    "print('Random Forest Accuracy:', acc)"
   ]
  },
  {
   "cell_type": "markdown",
   "metadata": {},
   "source": [
    "### Gradient-boosted Tree Evaluation"
   ]
  },
  {
   "cell_type": "code",
   "execution_count": 41,
   "metadata": {},
   "outputs": [],
   "source": [
    "# Gradient-boosted Tree\n",
    "gbt = GBTClassifier()\n",
    "gbt_param_grid = ParamGridBuilder()\\\n",
    "                .addGrid(gbt.maxIter, [10, 20, 30])\\\n",
    "                .addGrid(gbt.maxDepth, [2, 5, 10])\\\n",
    "                .build()\n",
    "gbt_cross_val = CrossValidator(estimator=gbt,\n",
    "                               estimatorParamMaps=gbt_param_grid,\n",
    "                               evaluator=BinaryClassificationEvaluator(),\n",
    "                               numFolds=3)\n",
    "gbt_model = gbt_cross_val.fit(train)"
   ]
  },
  {
   "cell_type": "code",
   "execution_count": 42,
   "metadata": {},
   "outputs": [
    {
     "data": {
      "text/plain": [
       "[1.0, 1.0, 1.0, 1.0, 1.0, 1.0, 1.0, 1.0, 1.0]"
      ]
     },
     "execution_count": 42,
     "metadata": {},
     "output_type": "execute_result"
    }
   ],
   "source": [
    "gbt_model.avgMetrics"
   ]
  },
  {
   "cell_type": "code",
   "execution_count": 43,
   "metadata": {},
   "outputs": [
    {
     "name": "stdout",
     "output_type": "stream",
     "text": [
      "Gradient-boosted Tree Accuracy: 1.0\n"
     ]
    }
   ],
   "source": [
    "# Predict on test dataset\n",
    "gbt_result = gbt_model.transform(test)\n",
    "acc = gbt_result.filter(gbt_result.label == gbt_result.prediction).count() / gbt_result.count()\n",
    "print('Gradient-boosted Tree Accuracy:', acc)"
   ]
  },
  {
   "cell_type": "markdown",
   "metadata": {},
   "source": [
    "### Decision Tree Evaluation"
   ]
  },
  {
   "cell_type": "code",
   "execution_count": 44,
   "metadata": {},
   "outputs": [],
   "source": [
    "# Decision Tree\n",
    "dt = DecisionTreeClassifier()\n",
    "dt_param_grid = ParamGridBuilder()\\\n",
    "                .addGrid(dt.impurity, ['gini', 'entropy'])\\\n",
    "                .addGrid(dt.maxDepth, [2, 5])\\\n",
    "                .build()\n",
    "dt_cross_val = CrossValidator(estimator=dt,\n",
    "                               estimatorParamMaps=dt_param_grid,\n",
    "                               evaluator=BinaryClassificationEvaluator(),\n",
    "                               numFolds=3)\n",
    "dt_model = dt_cross_val.fit(train)"
   ]
  },
  {
   "cell_type": "code",
   "execution_count": 45,
   "metadata": {},
   "outputs": [
    {
     "data": {
      "text/plain": [
       "[1.0, 1.0, 1.0, 1.0]"
      ]
     },
     "execution_count": 45,
     "metadata": {},
     "output_type": "execute_result"
    }
   ],
   "source": [
    "dt_model.avgMetrics"
   ]
  },
  {
   "cell_type": "code",
   "execution_count": 46,
   "metadata": {},
   "outputs": [
    {
     "name": "stdout",
     "output_type": "stream",
     "text": [
      "Gradient-boosted Tree Accuracy: 1.0\n"
     ]
    }
   ],
   "source": [
    "# Predict on test dataset\n",
    "dt_result = dt_model.transform(test)\n",
    "acc = dt_result.filter(dt_result.label == dt_result.prediction).count() / dt_result.count()\n",
    "print('Gradient-boosted Tree Accuracy:', acc)"
   ]
  },
  {
   "cell_type": "markdown",
   "metadata": {},
   "source": [
    "### Naive Bayes Evaluation"
   ]
  },
  {
   "cell_type": "code",
   "execution_count": 53,
   "metadata": {},
   "outputs": [],
   "source": [
    "# Naive Bayes\n",
    "nb = NaiveBayes()\n",
    "nb_param_grid = ParamGridBuilder()\\\n",
    "                .addGrid(nb.smoothing, [0.0, 0.5, 1.0])\\\n",
    "                .build()\n",
    "nb_cross_val = CrossValidator(estimator=nb,\n",
    "                              estimatorParamMaps=nb_param_grid,\n",
    "                              evaluator=BinaryClassificationEvaluator(),\n",
    "                              numFolds=3)\n",
    "nb_model = nb_cross_val.fit(train)"
   ]
  },
  {
   "cell_type": "code",
   "execution_count": 54,
   "metadata": {},
   "outputs": [
    {
     "data": {
      "text/plain": [
       "[0.40776921211703815, 0.4048949809819375, 0.4041442302311867]"
      ]
     },
     "execution_count": 54,
     "metadata": {},
     "output_type": "execute_result"
    }
   ],
   "source": [
    "nb_model.avgMetrics"
   ]
  },
  {
   "cell_type": "code",
   "execution_count": 55,
   "metadata": {},
   "outputs": [
    {
     "name": "stdout",
     "output_type": "stream",
     "text": [
      "Naive Bayes Accuracy: 1.0\n"
     ]
    }
   ],
   "source": [
    "# Predict on test dataset\n",
    "nb_result = nb_model.transform(test)\n",
    "acc = nb_result.filter(nb_result.label == nb_result.prediction).count() / nb_result.count()\n",
    "print('Naive Bayes Accuracy:', acc)"
   ]
  },
  {
   "cell_type": "markdown",
   "metadata": {},
   "source": [
    "### Linear Support Vector Machine Evaluation"
   ]
  },
  {
   "cell_type": "code",
   "execution_count": 57,
   "metadata": {},
   "outputs": [],
   "source": [
    "# Linear SVM\n",
    "svm = LinearSVC()\n",
    "svm_param_grid = ParamGridBuilder()\\\n",
    "                .addGrid(svm.maxIter, [10, 20, 30])\\\n",
    "                .addGrid(svm.regParam, [0.0, 0.1, 0.2])\\\n",
    "                .build()\n",
    "svm_cross_val = CrossValidator(estimator=svm,\n",
    "                              estimatorParamMaps=svm_param_grid,\n",
    "                              evaluator=BinaryClassificationEvaluator(),\n",
    "                              numFolds=3)\n",
    "svm_model = svm_cross_val.fit(train)"
   ]
  },
  {
   "cell_type": "code",
   "execution_count": 58,
   "metadata": {},
   "outputs": [
    {
     "data": {
      "text/plain": [
       "[0.8095160975595759,\n",
       " 0.7697038892691067,\n",
       " 0.8004574091530613,\n",
       " 0.9855072463768115,\n",
       " 0.9761555033294163,\n",
       " 0.9644046220133176,\n",
       " 0.9879227053140096,\n",
       " 0.985213474343909,\n",
       " 0.9716509988249118]"
      ]
     },
     "execution_count": 58,
     "metadata": {},
     "output_type": "execute_result"
    }
   ],
   "source": [
    "svm_model.avgMetrics"
   ]
  },
  {
   "cell_type": "code",
   "execution_count": 59,
   "metadata": {},
   "outputs": [
    {
     "name": "stdout",
     "output_type": "stream",
     "text": [
      "Linear SVM Accuracy: 1.0\n"
     ]
    }
   ],
   "source": [
    "# Predict on test dataset\n",
    "svm_result = svm_model.transform(test)\n",
    "acc = svm_result.filter(svm_result.label == svm_result.prediction).count() / svm_result.count()\n",
    "print('Linear SVM Accuracy:', acc)"
   ]
  },
  {
   "cell_type": "markdown",
   "metadata": {},
   "source": [
    "### Reflection on 100% Accuracy Score"
   ]
  },
  {
   "cell_type": "markdown",
   "metadata": {},
   "source": [
    "A 100% accuracy score frequently shows from the results above. Based on [this stackexchange thread](https://datascience.stackexchange.com/questions/43313/why-100-accuracy-on-test-data-is-not-good), it might indicate several problems:\n",
    "- There is data leakage: label column is added as features\n",
    "- The test data is duplicated from the train data\n",
    "- The test data is too small\n",
    "- The validation is not right\n",
    "- It doesn't need machine learning to predict churn in this dataset\n",
    "\n",
    "Let's see if the test data are duplicated from the train data:"
   ]
  },
  {
   "cell_type": "code",
   "execution_count": 60,
   "metadata": {},
   "outputs": [
    {
     "data": {
      "text/plain": [
       "225"
      ]
     },
     "execution_count": 60,
     "metadata": {},
     "output_type": "execute_result"
    }
   ],
   "source": [
    "train.union(test).distinct().count()"
   ]
  },
  {
   "cell_type": "markdown",
   "metadata": {},
   "source": [
    "The fact that the union of test and train datasets are still 225 distinct data points means that there is no duplication in the test dataset.\n",
    "\n",
    "What about data leakage? Is the label gets inside the features?"
   ]
  },
  {
   "cell_type": "code",
   "execution_count": 81,
   "metadata": {},
   "outputs": [
    {
     "data": {
      "text/plain": [
       "['avgItemsPerSession',\n",
       " 'avgLengthPerDay',\n",
       " 'avgLengthPerMonth',\n",
       " 'avgLengthPerWeek',\n",
       " 'avgSessionsPerDay',\n",
       " 'avgSessionsPerMonth',\n",
       " 'avgSessionsPerWeek',\n",
       " 'avgSongsPerDay',\n",
       " 'avgSongsPerMonth',\n",
       " 'avgSongsPerWeek',\n",
       " 'gender',\n",
       " 'havePaid',\n",
       " 'isChurn',\n",
       " 'sumPageAbout',\n",
       " 'sumPageAddFriend',\n",
       " 'sumPageAddtoPlaylist',\n",
       " 'sumPageCancel',\n",
       " 'sumPageDowngrade',\n",
       " 'sumPageError',\n",
       " 'sumPageHelp',\n",
       " 'sumPageHome',\n",
       " 'sumPageLogout',\n",
       " 'sumPageRollAdvert',\n",
       " 'sumPageSaveSettings',\n",
       " 'sumPageSettings',\n",
       " 'sumPageSubmitDowngrade',\n",
       " 'sumPageSubmitUpgrade',\n",
       " 'sumPageThumbsDown',\n",
       " 'sumPageThumbsUp',\n",
       " 'sumPageUpgrade',\n",
       " 'userId',\n",
       " 'featuresAssembled',\n",
       " 'features']"
      ]
     },
     "execution_count": 81,
     "metadata": {},
     "output_type": "execute_result"
    }
   ],
   "source": [
    "df_scaled_cols = df_scaled.columns\n",
    "df_scaled_cols"
   ]
  },
  {
   "cell_type": "code",
   "execution_count": 82,
   "metadata": {},
   "outputs": [],
   "source": [
    "df_scaled_cols.remove('userId')\n",
    "df_scaled_cols.remove('isChurn')\n",
    "df_scaled_cols.remove('featuresAssembled')\n",
    "df_scaled_cols.remove('features')"
   ]
  },
  {
   "cell_type": "code",
   "execution_count": 83,
   "metadata": {},
   "outputs": [
    {
     "data": {
      "text/plain": [
       "29"
      ]
     },
     "execution_count": 83,
     "metadata": {},
     "output_type": "execute_result"
    }
   ],
   "source": [
    "len(df_scaled_cols)"
   ]
  },
  {
   "cell_type": "code",
   "execution_count": 73,
   "metadata": {},
   "outputs": [
    {
     "name": "stdout",
     "output_type": "stream",
     "text": [
      "+-----------------------+\n",
      "|Average Features Length|\n",
      "+-----------------------+\n",
      "|                   29.0|\n",
      "+-----------------------+\n",
      "\n"
     ]
    }
   ],
   "source": [
    "features_length = F.udf(lambda features: len(features), IntegerType())\n",
    "df_ml.withColumn('featuresLength', features_length(F.col('features')))\\\n",
    ".groupBy().agg(F.avg(F.col('featuresLength')).alias('Average Features Length')).show()"
   ]
  },
  {
   "cell_type": "markdown",
   "metadata": {},
   "source": [
    "Since the number of features and the length of features vector in the `df_ml` are all 29, then there is no data leakage. Further, the validation steps are conducted with fresh start by at least twice. Thus it leaves us with the possibilities that either the data is too small or we don't need machine learning to predict the churn from this dataset."
   ]
  },
  {
   "cell_type": "markdown",
   "metadata": {},
   "source": [
    "# Final Steps\n",
    "Clean up your code, adding comments and renaming variables to make the code easier to read and maintain. Refer to the Spark Project Overview page and Data Scientist Capstone Project Rubric to make sure you are including all components of the capstone project and meet all expectations. Remember, this includes thorough documentation in a README file in a Github repository, as well as a web app or blog post."
   ]
  },
  {
   "cell_type": "code",
   "execution_count": null,
   "metadata": {},
   "outputs": [],
   "source": []
  }
 ],
 "metadata": {
  "kernelspec": {
   "display_name": "Python 3",
   "language": "python",
   "name": "python3"
  },
  "language_info": {
   "codemirror_mode": {
    "name": "ipython",
    "version": 3
   },
   "file_extension": ".py",
   "mimetype": "text/x-python",
   "name": "python",
   "nbconvert_exporter": "python",
   "pygments_lexer": "ipython3",
   "version": "3.7.10"
  }
 },
 "nbformat": 4,
 "nbformat_minor": 2
}
